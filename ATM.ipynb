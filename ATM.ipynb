{
 "cells": [
  {
   "cell_type": "code",
   "execution_count": 12,
   "id": "6510680d",
   "metadata": {},
   "outputs": [],
   "source": [
    "class ATM:\n",
    "    def __init__(self):\n",
    "        self.pin = \"\"\n",
    "        self.balance = 0\n",
    "        self.menu()\n",
    "    \n",
    "    def menu(self):\n",
    "        user_input = input(\"\"\"\n",
    "        Hi! How can I help?\n",
    "        1.press 1 to create pin\n",
    "        2.press 2 to change pin\n",
    "        3.press 3 to check balance\n",
    "        4.press 4 to withdraw\n",
    "        5.exit  \n",
    "        \"\"\")\n",
    "        if user_input ==\"1\":\n",
    "              self.create_pin()\n",
    "        elif user_input ==\"2\":\n",
    "              self.change_pin()\n",
    "        elif user_input ==\"3\":\n",
    "              self.check_balance()\n",
    "        elif user_input ==\"4\":\n",
    "              self.withdraw()\n",
    "        elif user_input ==\"5\":\n",
    "              exit()\n",
    "        else:\n",
    "            print(\"invalid choice\")\n",
    "            self.menu()\n",
    "        \n",
    "        \n",
    "\n",
    "    def create_pin(self):\n",
    "        user_pin = input(\"enter pin\")\n",
    "        self.pin = user_pin\n",
    "        user_balance = input(\"enter balance\")\n",
    "        self.balance = user_balance\n",
    "        print(\"pin created\")\n",
    "\n",
    "    def change_pin(self):\n",
    "        old_pin = input(\"enter old pin\")\n",
    "        if old_pin==self.pin:\n",
    "            new_pin =input(\"enter new input\")\n",
    "            self.pin = new_pin\n",
    "            self.menu()\n",
    "        else:\n",
    "            print(\"you arent authorised\")\n",
    "            self.menu()\n",
    "                        \n",
    "    def check_balance(self):\n",
    "        user_pin = input(\"enter your pin\")\n",
    "        if user_pin==self.pin:\n",
    "            print(f\"your account balance is {self.balance}\")\n",
    "        else:\n",
    "            print(\"you are not authorized\")\n",
    "                        \n",
    "    def withdraw(self):\n",
    "        user_pin = input(\"enter pin\")\n",
    "        if user_pin ==self.pin:\n",
    "            amount = input(\"enther amount\")\n",
    "            if amount<=self.balance:\n",
    "                self.balance = self.balance-amount\n",
    "                print(\"amount withdrawn successfully\")\n",
    "                self.menu()\n",
    "            else:\n",
    "                print(\"not enough balance\")\n",
    "                self.menu()\n",
    "        else:\n",
    "            print(\"you are not authorized\")\n",
    "            self.menu()\n",
    "                        \n",
    "    \n",
    "                        "
   ]
  },
  {
   "cell_type": "code",
   "execution_count": 13,
   "id": "225a22fb",
   "metadata": {},
   "outputs": [
    {
     "name": "stdout",
     "output_type": "stream",
     "text": [
      "\n",
      "        Hi! How can I help?\n",
      "        1.press 1 to create pin\n",
      "        2.press 2 to change pin\n",
      "        3.press 3 to check balance\n",
      "        4.press 4 to withdraw\n",
      "        5.exit  \n",
      "        1\n",
      "enter pin1234\n",
      "enter balance10000\n",
      "pin created\n"
     ]
    }
   ],
   "source": [
    "obj = ATM()"
   ]
  },
  {
   "cell_type": "code",
   "execution_count": null,
   "id": "c903b3c5",
   "metadata": {},
   "outputs": [
    {
     "name": "stdout",
     "output_type": "stream",
     "text": [
      "enter pin1234\n",
      "enther amount11000\n",
      "not enough balance\n"
     ]
    }
   ],
   "source": [
    "obj.withdraw()"
   ]
  },
  {
   "cell_type": "code",
   "execution_count": null,
   "id": "d44a4ebe",
   "metadata": {},
   "outputs": [],
   "source": []
  }
 ],
 "metadata": {
  "kernelspec": {
   "display_name": "Python 3 (ipykernel)",
   "language": "python",
   "name": "python3"
  },
  "language_info": {
   "codemirror_mode": {
    "name": "ipython",
    "version": 3
   },
   "file_extension": ".py",
   "mimetype": "text/x-python",
   "name": "python",
   "nbconvert_exporter": "python",
   "pygments_lexer": "ipython3",
   "version": "3.11.4"
  }
 },
 "nbformat": 4,
 "nbformat_minor": 5
}
